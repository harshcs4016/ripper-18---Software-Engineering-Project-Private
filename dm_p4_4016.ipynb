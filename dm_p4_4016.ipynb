{
  "nbformat": 4,
  "nbformat_minor": 0,
  "metadata": {
    "colab": {
      "provenance": [],
      "authorship_tag": "ABX9TyPuQEXNNMrcWywo12QBtlFS",
      "include_colab_link": true
    },
    "kernelspec": {
      "name": "python3",
      "display_name": "Python 3"
    },
    "language_info": {
      "name": "python"
    }
  },
  "cells": [
    {
      "cell_type": "markdown",
      "metadata": {
        "id": "view-in-github",
        "colab_type": "text"
      },
      "source": [
        "<a href=\"https://colab.research.google.com/github/harshcs4016/ripper-18---Software-Engineering-Project-Private/blob/master/dm_p4_4016.ipynb\" target=\"_parent\"><img src=\"https://colab.research.google.com/assets/colab-badge.svg\" alt=\"Open In Colab\"/></a>"
      ]
    },
    {
      "cell_type": "code",
      "source": [
        "import pandas as pd\n",
        "import numpy as np\n",
        "\n",
        "market_basket = pd.read_csv('/content/Market_Basket_Optimisation.csv')\n",
        "print(market_basket)"
      ],
      "metadata": {
        "colab": {
          "base_uri": "https://localhost:8080/"
        },
        "id": "_SojggYhKYAQ",
        "outputId": "5cf772d8-30e2-467a-bfb8-dd80be3c85e4"
      },
      "execution_count": null,
      "outputs": [
        {
          "output_type": "stream",
          "name": "stdout",
          "text": [
            "              shrimp            almonds      avocado    vegetables mix  \\\n",
            "0            burgers          meatballs         eggs               NaN   \n",
            "1            chutney                NaN          NaN               NaN   \n",
            "2             turkey            avocado          NaN               NaN   \n",
            "3      mineral water               milk   energy bar  whole wheat rice   \n",
            "4     low fat yogurt                NaN          NaN               NaN   \n",
            "...              ...                ...          ...               ...   \n",
            "7495          butter         light mayo  fresh bread               NaN   \n",
            "7496         burgers  frozen vegetables         eggs      french fries   \n",
            "7497         chicken                NaN          NaN               NaN   \n",
            "7498        escalope          green tea          NaN               NaN   \n",
            "7499            eggs    frozen smoothie  yogurt cake    low fat yogurt   \n",
            "\n",
            "     green grapes whole weat flour yams cottage cheese energy drink  \\\n",
            "0             NaN              NaN  NaN            NaN          NaN   \n",
            "1             NaN              NaN  NaN            NaN          NaN   \n",
            "2             NaN              NaN  NaN            NaN          NaN   \n",
            "3       green tea              NaN  NaN            NaN          NaN   \n",
            "4             NaN              NaN  NaN            NaN          NaN   \n",
            "...           ...              ...  ...            ...          ...   \n",
            "7495          NaN              NaN  NaN            NaN          NaN   \n",
            "7496    magazines        green tea  NaN            NaN          NaN   \n",
            "7497          NaN              NaN  NaN            NaN          NaN   \n",
            "7498          NaN              NaN  NaN            NaN          NaN   \n",
            "7499          NaN              NaN  NaN            NaN          NaN   \n",
            "\n",
            "     tomato juice low fat yogurt green tea honey salad mineral water salmon  \\\n",
            "0             NaN            NaN       NaN   NaN   NaN           NaN    NaN   \n",
            "1             NaN            NaN       NaN   NaN   NaN           NaN    NaN   \n",
            "2             NaN            NaN       NaN   NaN   NaN           NaN    NaN   \n",
            "3             NaN            NaN       NaN   NaN   NaN           NaN    NaN   \n",
            "4             NaN            NaN       NaN   NaN   NaN           NaN    NaN   \n",
            "...           ...            ...       ...   ...   ...           ...    ...   \n",
            "7495          NaN            NaN       NaN   NaN   NaN           NaN    NaN   \n",
            "7496          NaN            NaN       NaN   NaN   NaN           NaN    NaN   \n",
            "7497          NaN            NaN       NaN   NaN   NaN           NaN    NaN   \n",
            "7498          NaN            NaN       NaN   NaN   NaN           NaN    NaN   \n",
            "7499          NaN            NaN       NaN   NaN   NaN           NaN    NaN   \n",
            "\n",
            "     antioxydant juice frozen smoothie spinach  olive oil  \n",
            "0                  NaN             NaN     NaN        NaN  \n",
            "1                  NaN             NaN     NaN        NaN  \n",
            "2                  NaN             NaN     NaN        NaN  \n",
            "3                  NaN             NaN     NaN        NaN  \n",
            "4                  NaN             NaN     NaN        NaN  \n",
            "...                ...             ...     ...        ...  \n",
            "7495               NaN             NaN     NaN        NaN  \n",
            "7496               NaN             NaN     NaN        NaN  \n",
            "7497               NaN             NaN     NaN        NaN  \n",
            "7498               NaN             NaN     NaN        NaN  \n",
            "7499               NaN             NaN     NaN        NaN  \n",
            "\n",
            "[7500 rows x 20 columns]\n"
          ]
        }
      ]
    },
    {
      "cell_type": "code",
      "source": [
        "clean_data =[]\n",
        "\n",
        "for i in range(len(market_basket)):\n",
        "    clean_data.append([x for x in list(map(str,market_basket.iloc[i].tolist())) if x != 'nan'])\n",
        "length = len(clean_data)\n",
        "print(length)    "
      ],
      "metadata": {
        "colab": {
          "base_uri": "https://localhost:8080/"
        },
        "id": "JDPAKpEKLCL8",
        "outputId": "e1997a30-5b66-405e-d509-d28d06ee27c2"
      },
      "execution_count": null,
      "outputs": [
        {
          "output_type": "stream",
          "name": "stdout",
          "text": [
            "7500\n"
          ]
        }
      ]
    },
    {
      "cell_type": "code",
      "source": [
        "from apyori import apriori\n",
        "model = apriori(clean_data, min_support=0.005, min_threshold=0.0075,min_length=2,min_lift=3)"
      ],
      "metadata": {
        "id": "vUP7-tjuLueF"
      },
      "execution_count": null,
      "outputs": []
    },
    {
      "cell_type": "code",
      "source": [
        "results = list(model)\n",
        "print(len(results))\n",
        "print(results)"
      ],
      "metadata": {
        "colab": {
          "base_uri": "https://localhost:8080/"
        },
        "id": "74By1htVQAFF",
        "outputId": "f8be5941-7554-4049-d151-20782f9afe47"
      },
      "execution_count": null,
      "outputs": [
        {
          "output_type": "stream",
          "name": "stdout",
          "text": [
            "20\n",
            "[RelationRecord(items=frozenset({'mushroom cream sauce', 'escalope'}), support=0.005733333333333333, ordered_statistics=[OrderedStatistic(items_base=frozenset({'escalope'}), items_add=frozenset({'mushroom cream sauce'}), confidence=0.0722689075630252, lift=3.790327319739084), OrderedStatistic(items_base=frozenset({'mushroom cream sauce'}), items_add=frozenset({'escalope'}), confidence=0.30069930069930073, lift=3.7903273197390845)]), RelationRecord(items=frozenset({'pasta', 'escalope'}), support=0.005866666666666667, ordered_statistics=[OrderedStatistic(items_base=frozenset({'escalope'}), items_add=frozenset({'pasta'}), confidence=0.07394957983193277, lift=4.700185158809287), OrderedStatistic(items_base=frozenset({'pasta'}), items_add=frozenset({'escalope'}), confidence=0.37288135593220345, lift=4.700185158809287)]), RelationRecord(items=frozenset({'herb & pepper', 'ground beef'}), support=0.016, ordered_statistics=[OrderedStatistic(items_base=frozenset({'ground beef'}), items_add=frozenset({'herb & pepper'}), confidence=0.1628222523744912, lift=3.2915549671393096), OrderedStatistic(items_base=frozenset({'herb & pepper'}), items_add=frozenset({'ground beef'}), confidence=0.3234501347708895, lift=3.2915549671393096)]), RelationRecord(items=frozenset({'ground beef', 'tomato sauce'}), support=0.005333333333333333, ordered_statistics=[OrderedStatistic(items_base=frozenset({'ground beef'}), items_add=frozenset({'tomato sauce'}), confidence=0.05427408412483039, lift=3.8401474616625277), OrderedStatistic(items_base=frozenset({'tomato sauce'}), items_add=frozenset({'ground beef'}), confidence=0.37735849056603776, lift=3.840147461662528)]), RelationRecord(items=frozenset({'olive oil', 'whole wheat pasta'}), support=0.008, ordered_statistics=[OrderedStatistic(items_base=frozenset({'olive oil'}), items_add=frozenset({'whole wheat pasta'}), confidence=0.12170385395537525, lift=4.130221288078346), OrderedStatistic(items_base=frozenset({'whole wheat pasta'}), items_add=frozenset({'olive oil'}), confidence=0.2714932126696833, lift=4.130221288078346)]), RelationRecord(items=frozenset({'shrimp', 'pasta'}), support=0.005066666666666666, ordered_statistics=[OrderedStatistic(items_base=frozenset({'pasta'}), items_add=frozenset({'shrimp'}), confidence=0.3220338983050848, lift=4.514493901473151), OrderedStatistic(items_base=frozenset({'shrimp'}), items_add=frozenset({'pasta'}), confidence=0.07102803738317756, lift=4.51449390147315)]), RelationRecord(items=frozenset({'shrimp', 'chocolate', 'frozen vegetables'}), support=0.005333333333333333, ordered_statistics=[OrderedStatistic(items_base=frozenset({'frozen vegetables'}), items_add=frozenset({'shrimp', 'chocolate'}), confidence=0.05594405594405594, lift=3.108003108003108), OrderedStatistic(items_base=frozenset({'shrimp'}), items_add=frozenset({'chocolate', 'frozen vegetables'}), confidence=0.07476635514018691, lift=3.2601608346011735), OrderedStatistic(items_base=frozenset({'chocolate', 'frozen vegetables'}), items_add=frozenset({'shrimp'}), confidence=0.23255813953488372, lift=3.260160834601174), OrderedStatistic(items_base=frozenset({'shrimp', 'chocolate'}), items_add=frozenset({'frozen vegetables'}), confidence=0.29629629629629634, lift=3.1080031080031083)]), RelationRecord(items=frozenset({'spaghetti', 'frozen vegetables', 'ground beef'}), support=0.008666666666666666, ordered_statistics=[OrderedStatistic(items_base=frozenset({'ground beef'}), items_add=frozenset({'spaghetti', 'frozen vegetables'}), confidence=0.08819538670284938, lift=3.164906221394116), OrderedStatistic(items_base=frozenset({'spaghetti', 'frozen vegetables'}), items_add=frozenset({'ground beef'}), confidence=0.3110047846889952, lift=3.164906221394116)]), RelationRecord(items=frozenset({'shrimp', 'frozen vegetables', 'mineral water'}), support=0.0072, ordered_statistics=[OrderedStatistic(items_base=frozenset({'frozen vegetables'}), items_add=frozenset({'shrimp', 'mineral water'}), confidence=0.07552447552447551, lift=3.2183725365543543), OrderedStatistic(items_base=frozenset({'shrimp', 'mineral water'}), items_add=frozenset({'frozen vegetables'}), confidence=0.3068181818181818, lift=3.2183725365543547)]), RelationRecord(items=frozenset({'olive oil', 'spaghetti', 'frozen vegetables'}), support=0.005733333333333333, ordered_statistics=[OrderedStatistic(items_base=frozenset({'olive oil'}), items_add=frozenset({'spaghetti', 'frozen vegetables'}), confidence=0.0872210953346856, lift=3.1299436124887174), OrderedStatistic(items_base=frozenset({'spaghetti', 'frozen vegetables'}), items_add=frozenset({'olive oil'}), confidence=0.20574162679425836, lift=3.1299436124887174)]), RelationRecord(items=frozenset({'shrimp', 'spaghetti', 'frozen vegetables'}), support=0.006, ordered_statistics=[OrderedStatistic(items_base=frozenset({'shrimp'}), items_add=frozenset({'spaghetti', 'frozen vegetables'}), confidence=0.08411214953271029, lift=3.0183785717479767), OrderedStatistic(items_base=frozenset({'spaghetti', 'frozen vegetables'}), items_add=frozenset({'shrimp'}), confidence=0.21531100478468898, lift=3.0183785717479763)]), RelationRecord(items=frozenset({'spaghetti', 'tomatoes', 'frozen vegetables'}), support=0.006666666666666667, ordered_statistics=[OrderedStatistic(items_base=frozenset({'frozen vegetables'}), items_add=frozenset({'spaghetti', 'tomatoes'}), confidence=0.06993006993006994, lift=3.3406084361498376), OrderedStatistic(items_base=frozenset({'tomatoes'}), items_add=frozenset({'spaghetti', 'frozen vegetables'}), confidence=0.09746588693957116, lift=3.4975796748649937), OrderedStatistic(items_base=frozenset({'spaghetti', 'frozen vegetables'}), items_add=frozenset({'tomatoes'}), confidence=0.23923444976076555, lift=3.497579674864993), OrderedStatistic(items_base=frozenset({'spaghetti', 'tomatoes'}), items_add=frozenset({'frozen vegetables'}), confidence=0.3184713375796178, lift=3.340608436149837)]), RelationRecord(items=frozenset({'grated cheese', 'spaghetti', 'ground beef'}), support=0.005333333333333333, ordered_statistics=[OrderedStatistic(items_base=frozenset({'ground beef'}), items_add=frozenset({'grated cheese', 'spaghetti'}), confidence=0.05427408412483039, lift=3.282706701098612), OrderedStatistic(items_base=frozenset({'grated cheese', 'spaghetti'}), items_add=frozenset({'ground beef'}), confidence=0.3225806451612903, lift=3.282706701098612)]), RelationRecord(items=frozenset({'herb & pepper', 'mineral water', 'ground beef'}), support=0.006666666666666667, ordered_statistics=[OrderedStatistic(items_base=frozenset({'ground beef'}), items_add=frozenset({'herb & pepper', 'mineral water'}), confidence=0.06784260515603799, lift=3.9751526458616007), OrderedStatistic(items_base=frozenset({'herb & pepper'}), items_add=frozenset({'ground beef', 'mineral water'}), confidence=0.13477088948787064, lift=3.292448440257426), OrderedStatistic(items_base=frozenset({'mineral water', 'ground beef'}), items_add=frozenset({'herb & pepper'}), confidence=0.16286644951140064, lift=3.2924484402574254), OrderedStatistic(items_base=frozenset({'herb & pepper', 'mineral water'}), items_add=frozenset({'ground beef'}), confidence=0.390625, lift=3.975152645861601)]), RelationRecord(items=frozenset({'herb & pepper', 'spaghetti', 'ground beef'}), support=0.0064, ordered_statistics=[OrderedStatistic(items_base=frozenset({'ground beef'}), items_add=frozenset({'herb & pepper', 'spaghetti'}), confidence=0.06512890094979647, lift=4.003825878061258), OrderedStatistic(items_base=frozenset({'herb & pepper'}), items_add=frozenset({'spaghetti', 'ground beef'}), confidence=0.1293800539083558, lift=3.300511579294791), OrderedStatistic(items_base=frozenset({'spaghetti', 'ground beef'}), items_add=frozenset({'herb & pepper'}), confidence=0.163265306122449, lift=3.300511579294791), OrderedStatistic(items_base=frozenset({'herb & pepper', 'spaghetti'}), items_add=frozenset({'ground beef'}), confidence=0.3934426229508197, lift=4.003825878061259)]), RelationRecord(items=frozenset({'shrimp', 'spaghetti', 'ground beef'}), support=0.006, ordered_statistics=[OrderedStatistic(items_base=frozenset({'spaghetti'}), items_add=frozenset({'shrimp', 'ground beef'}), confidence=0.03445635528330781, lift=3.0049147049396345), OrderedStatistic(items_base=frozenset({'shrimp', 'ground beef'}), items_add=frozenset({'spaghetti'}), confidence=0.5232558139534884, lift=3.004914704939635)]), RelationRecord(items=frozenset({'milk', 'mineral water', 'soup'}), support=0.008533333333333334, ordered_statistics=[OrderedStatistic(items_base=frozenset({'soup'}), items_add=frozenset({'milk', 'mineral water'}), confidence=0.16886543535620055, lift=3.518029903254178), OrderedStatistic(items_base=frozenset({'milk', 'mineral water'}), items_add=frozenset({'soup'}), confidence=0.17777777777777778, lift=3.518029903254178)]), RelationRecord(items=frozenset({'olive oil', 'milk', 'spaghetti'}), support=0.0072, ordered_statistics=[OrderedStatistic(items_base=frozenset({'olive oil'}), items_add=frozenset({'milk', 'spaghetti'}), confidence=0.10953346855983771, lift=3.0883496774390333), OrderedStatistic(items_base=frozenset({'milk', 'spaghetti'}), items_add=frozenset({'olive oil'}), confidence=0.20300751879699247, lift=3.0883496774390333)]), RelationRecord(items=frozenset({'olive oil', 'mineral water', 'soup'}), support=0.0052, ordered_statistics=[OrderedStatistic(items_base=frozenset({'olive oil'}), items_add=frozenset({'mineral water', 'soup'}), confidence=0.0791075050709939, lift=3.4295161157945335), OrderedStatistic(items_base=frozenset({'soup'}), items_add=frozenset({'olive oil', 'mineral water'}), confidence=0.10290237467018469, lift=3.746445679739734), OrderedStatistic(items_base=frozenset({'olive oil', 'mineral water'}), items_add=frozenset({'soup'}), confidence=0.18932038834951456, lift=3.7464456797397343), OrderedStatistic(items_base=frozenset({'mineral water', 'soup'}), items_add=frozenset({'olive oil'}), confidence=0.2254335260115607, lift=3.4295161157945335)]), RelationRecord(items=frozenset({'olive oil', 'spaghetti', 'pancakes'}), support=0.005066666666666666, ordered_statistics=[OrderedStatistic(items_base=frozenset({'olive oil'}), items_add=frozenset({'pancakes', 'spaghetti'}), confidence=0.07707910750507098, lift=3.0586947422647213), OrderedStatistic(items_base=frozenset({'pancakes', 'spaghetti'}), items_add=frozenset({'olive oil'}), confidence=0.20105820105820105, lift=3.0586947422647217)])]\n"
          ]
        }
      ]
    },
    {
      "cell_type": "code",
      "source": [
        "model2 = apriori(clean_data, min_support=0.006, min_threshold=0.006,min_length=2,min_lift=3)\n",
        "results2 = list(model2)\n",
        "print(len(results2))\n",
        "print(results2)"
      ],
      "metadata": {
        "colab": {
          "base_uri": "https://localhost:8080/"
        },
        "id": "iUdQP61HQ-g5",
        "outputId": "9ca80e0d-9b81-4b8a-85f6-882ab7d58b31"
      },
      "execution_count": null,
      "outputs": [
        {
          "output_type": "stream",
          "name": "stdout",
          "text": [
            "11\n",
            "[RelationRecord(items=frozenset({'herb & pepper', 'ground beef'}), support=0.016, ordered_statistics=[OrderedStatistic(items_base=frozenset({'ground beef'}), items_add=frozenset({'herb & pepper'}), confidence=0.1628222523744912, lift=3.2915549671393096), OrderedStatistic(items_base=frozenset({'herb & pepper'}), items_add=frozenset({'ground beef'}), confidence=0.3234501347708895, lift=3.2915549671393096)]), RelationRecord(items=frozenset({'olive oil', 'whole wheat pasta'}), support=0.008, ordered_statistics=[OrderedStatistic(items_base=frozenset({'olive oil'}), items_add=frozenset({'whole wheat pasta'}), confidence=0.12170385395537525, lift=4.130221288078346), OrderedStatistic(items_base=frozenset({'whole wheat pasta'}), items_add=frozenset({'olive oil'}), confidence=0.2714932126696833, lift=4.130221288078346)]), RelationRecord(items=frozenset({'spaghetti', 'frozen vegetables', 'ground beef'}), support=0.008666666666666666, ordered_statistics=[OrderedStatistic(items_base=frozenset({'ground beef'}), items_add=frozenset({'spaghetti', 'frozen vegetables'}), confidence=0.08819538670284938, lift=3.164906221394116), OrderedStatistic(items_base=frozenset({'spaghetti', 'frozen vegetables'}), items_add=frozenset({'ground beef'}), confidence=0.3110047846889952, lift=3.164906221394116)]), RelationRecord(items=frozenset({'shrimp', 'frozen vegetables', 'mineral water'}), support=0.0072, ordered_statistics=[OrderedStatistic(items_base=frozenset({'frozen vegetables'}), items_add=frozenset({'shrimp', 'mineral water'}), confidence=0.07552447552447551, lift=3.2183725365543543), OrderedStatistic(items_base=frozenset({'shrimp', 'mineral water'}), items_add=frozenset({'frozen vegetables'}), confidence=0.3068181818181818, lift=3.2183725365543547)]), RelationRecord(items=frozenset({'shrimp', 'spaghetti', 'frozen vegetables'}), support=0.006, ordered_statistics=[OrderedStatistic(items_base=frozenset({'shrimp'}), items_add=frozenset({'spaghetti', 'frozen vegetables'}), confidence=0.08411214953271029, lift=3.0183785717479767), OrderedStatistic(items_base=frozenset({'spaghetti', 'frozen vegetables'}), items_add=frozenset({'shrimp'}), confidence=0.21531100478468898, lift=3.0183785717479763)]), RelationRecord(items=frozenset({'spaghetti', 'tomatoes', 'frozen vegetables'}), support=0.006666666666666667, ordered_statistics=[OrderedStatistic(items_base=frozenset({'frozen vegetables'}), items_add=frozenset({'spaghetti', 'tomatoes'}), confidence=0.06993006993006994, lift=3.3406084361498376), OrderedStatistic(items_base=frozenset({'tomatoes'}), items_add=frozenset({'spaghetti', 'frozen vegetables'}), confidence=0.09746588693957116, lift=3.4975796748649937), OrderedStatistic(items_base=frozenset({'spaghetti', 'frozen vegetables'}), items_add=frozenset({'tomatoes'}), confidence=0.23923444976076555, lift=3.497579674864993), OrderedStatistic(items_base=frozenset({'spaghetti', 'tomatoes'}), items_add=frozenset({'frozen vegetables'}), confidence=0.3184713375796178, lift=3.340608436149837)]), RelationRecord(items=frozenset({'herb & pepper', 'mineral water', 'ground beef'}), support=0.006666666666666667, ordered_statistics=[OrderedStatistic(items_base=frozenset({'ground beef'}), items_add=frozenset({'herb & pepper', 'mineral water'}), confidence=0.06784260515603799, lift=3.9751526458616007), OrderedStatistic(items_base=frozenset({'herb & pepper'}), items_add=frozenset({'ground beef', 'mineral water'}), confidence=0.13477088948787064, lift=3.292448440257426), OrderedStatistic(items_base=frozenset({'mineral water', 'ground beef'}), items_add=frozenset({'herb & pepper'}), confidence=0.16286644951140064, lift=3.2924484402574254), OrderedStatistic(items_base=frozenset({'herb & pepper', 'mineral water'}), items_add=frozenset({'ground beef'}), confidence=0.390625, lift=3.975152645861601)]), RelationRecord(items=frozenset({'herb & pepper', 'spaghetti', 'ground beef'}), support=0.0064, ordered_statistics=[OrderedStatistic(items_base=frozenset({'ground beef'}), items_add=frozenset({'herb & pepper', 'spaghetti'}), confidence=0.06512890094979647, lift=4.003825878061258), OrderedStatistic(items_base=frozenset({'herb & pepper'}), items_add=frozenset({'spaghetti', 'ground beef'}), confidence=0.1293800539083558, lift=3.300511579294791), OrderedStatistic(items_base=frozenset({'spaghetti', 'ground beef'}), items_add=frozenset({'herb & pepper'}), confidence=0.163265306122449, lift=3.300511579294791), OrderedStatistic(items_base=frozenset({'herb & pepper', 'spaghetti'}), items_add=frozenset({'ground beef'}), confidence=0.3934426229508197, lift=4.003825878061259)]), RelationRecord(items=frozenset({'shrimp', 'spaghetti', 'ground beef'}), support=0.006, ordered_statistics=[OrderedStatistic(items_base=frozenset({'spaghetti'}), items_add=frozenset({'shrimp', 'ground beef'}), confidence=0.03445635528330781, lift=3.0049147049396345), OrderedStatistic(items_base=frozenset({'shrimp', 'ground beef'}), items_add=frozenset({'spaghetti'}), confidence=0.5232558139534884, lift=3.004914704939635)]), RelationRecord(items=frozenset({'milk', 'mineral water', 'soup'}), support=0.008533333333333334, ordered_statistics=[OrderedStatistic(items_base=frozenset({'soup'}), items_add=frozenset({'milk', 'mineral water'}), confidence=0.16886543535620055, lift=3.518029903254178), OrderedStatistic(items_base=frozenset({'milk', 'mineral water'}), items_add=frozenset({'soup'}), confidence=0.17777777777777778, lift=3.518029903254178)]), RelationRecord(items=frozenset({'olive oil', 'milk', 'spaghetti'}), support=0.0072, ordered_statistics=[OrderedStatistic(items_base=frozenset({'olive oil'}), items_add=frozenset({'milk', 'spaghetti'}), confidence=0.10953346855983771, lift=3.0883496774390333), OrderedStatistic(items_base=frozenset({'milk', 'spaghetti'}), items_add=frozenset({'olive oil'}), confidence=0.20300751879699247, lift=3.0883496774390333)])]\n"
          ]
        }
      ]
    },
    {
      "cell_type": "code",
      "source": [
        "!pip install apyori"
      ],
      "metadata": {
        "colab": {
          "base_uri": "https://localhost:8080/"
        },
        "id": "XDH5e9fuPoJQ",
        "outputId": "8b058f8f-1347-4827-8d7a-54b6568317a5"
      },
      "execution_count": null,
      "outputs": [
        {
          "output_type": "stream",
          "name": "stdout",
          "text": [
            "Looking in indexes: https://pypi.org/simple, https://us-python.pkg.dev/colab-wheels/public/simple/\n",
            "Collecting apyori\n",
            "  Downloading apyori-1.1.2.tar.gz (8.6 kB)\n",
            "  Preparing metadata (setup.py) ... \u001b[?25l\u001b[?25hdone\n",
            "Building wheels for collected packages: apyori\n",
            "  Building wheel for apyori (setup.py) ... \u001b[?25l\u001b[?25hdone\n",
            "  Created wheel for apyori: filename=apyori-1.1.2-py3-none-any.whl size=5973 sha256=426db46eee09e6e713d66d8692d23758e05fbc5b5471344d31bfa5bade23a0d4\n",
            "  Stored in directory: /root/.cache/pip/wheels/1b/02/6c/a45230be8603bd95c0a51cd2b289aefdd860c1a100eab73661\n",
            "Successfully built apyori\n",
            "Installing collected packages: apyori\n",
            "Successfully installed apyori-1.1.2\n"
          ]
        }
      ]
    }
  ]
}